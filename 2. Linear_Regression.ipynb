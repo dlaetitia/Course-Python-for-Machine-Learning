{
 "cells": [
  {
   "cell_type": "markdown",
   "metadata": {
    "slideshow": {
     "slide_type": "slide"
    }
   },
   "source": [
    "## Linear Regression\n",
    "* relationship between independent (predictor, features, input) and dependent (response, target, label, output) variables\n",
    "\n",
    "### Simple linear regression model can be described with below equation:\n",
    "* y = a + b * x\n",
    "  * y: response, x: predictor, a, b: constant coefficients\n",
    "    * a: intercept, b: slope"
   ]
  },
  {
   "cell_type": "code",
   "execution_count": 1,
   "metadata": {
    "slideshow": {
     "slide_type": "slide"
    }
   },
   "outputs": [],
   "source": [
    "#import libraries\n",
    "import numpy as np #linear algebra\n",
    "import pandas as pd #data processing\n",
    "import matplotlib.pyplot as plt #data visualization\n",
    "from sklearn.linear_model import LinearRegression #ML library"
   ]
  },
  {
   "cell_type": "code",
   "execution_count": 2,
   "metadata": {
    "slideshow": {
     "slide_type": "fragment"
    }
   },
   "outputs": [],
   "source": [
    "#Generate random sample data\n",
    "x=list(range(120))\n",
    "y=np.random.randint(1,15,120)+x\n",
    "\n",
    "x_train=np.array(x)\n",
    "y_train=np.array(y)"
   ]
  },
  {
   "cell_type": "code",
   "execution_count": 3,
   "metadata": {
    "slideshow": {
     "slide_type": "fragment"
    }
   },
   "outputs": [
    {
     "name": "stdout",
     "output_type": "stream",
     "text": [
      "x: [0 1 2 3 4 5 6 7 8 9] \n",
      "y: [12  3  4  7 10 18 14 18 11 14]\n"
     ]
    }
   ],
   "source": [
    "#Checking the elements of x_train and y_train arrays\n",
    "print(\"x:\",x_train[0:10], \"\\ny:\",y_train[0:10])"
   ]
  },
  {
   "cell_type": "code",
   "execution_count": 4,
   "metadata": {
    "slideshow": {
     "slide_type": "slide"
    }
   },
   "outputs": [
    {
     "data": {
      "image/png": "[encoded data removed]",
      "text/plain": [
       "<Figure size 864x432 with 1 Axes>"
      ]
     },
     "metadata": {
      "needs_background": "light"
     },
     "output_type": "display_data"
    }
   ],
   "source": [
    "#Plotting data_points\n",
    "plt.figure(figsize=(12,6))\n",
    "plt.scatter(x, y)\n",
    "plt.xlabel('X')\n",
    "plt.ylabel('Y')\n",
    "plt.title('Input_Data_Points: X-feature, Y-label')\n",
    "plt.show()"
   ]
  },
  {
   "cell_type": "code",
   "execution_count": 5,
   "metadata": {
    "slideshow": {
     "slide_type": "slide"
    }
   },
   "outputs": [
    {
     "name": "stdout",
     "output_type": "stream",
     "text": [
      "shape of raw data:x_train (120,)\n",
      "shape of raw data:y_train (120,)\n"
     ]
    }
   ],
   "source": [
    "print('shape of raw data:x_train', x_train.shape)\n",
    "print('shape of raw data:y_train', y_train.shape)"
   ]
  },
  {
   "cell_type": "markdown",
   "metadata": {
    "slideshow": {
     "slide_type": "slide"
    }
   },
   "source": [
    "## Adding dimensions to numpy.arrays: newaxis vs reshape vs expand_dims\n",
    "* numpy. newaxis is used to increase the dimension of the existing array by one more dimension\n",
    "\n",
    "#### One reason to use numpy.newaxis over ndarray.reshape: \n",
    "* when you have more than one \"unknown\" dimension to operate with. for example:"
   ]
  },
  {
   "cell_type": "code",
   "execution_count": 6,
   "metadata": {
    "slideshow": {
     "slide_type": "fragment"
    }
   },
   "outputs": [
    {
     "name": "stdout",
     "output_type": "stream",
     "text": [
      "(120,)\n",
      "(120, 1)\n",
      "(120, 1)\n",
      "(120, 1)\n"
     ]
    }
   ],
   "source": [
    "x=list(range(120))\n",
    "X=np.array(x)\n",
    "print(X.shape)\n",
    "print(np.expand_dims(X, axis=1).shape)#axis=0 for rows, axis=1 for columns                                                             \n",
    "print(X[:, np.newaxis].shape)\n",
    "print(X.reshape(-1, 1).shape)\n"
   ]
  },
  {
   "cell_type": "code",
   "execution_count": 7,
   "metadata": {
    "slideshow": {
     "slide_type": "fragment"
    }
   },
   "outputs": [
    {
     "name": "stdout",
     "output_type": "stream",
     "text": [
      "(2, 3)\n",
      "(2, 1, 3)\n",
      "(2, 1, 3)\n"
     ]
    }
   ],
   "source": [
    "X1 = np.array([[1, 2, 3], [4, 5, 6]], np.int32)\n",
    "print(X1.shape)\n",
    "print(np.expand_dims(X1, axis=1).shape)                                                                  \n",
    "print(X1[:, np.newaxis, :].shape)\n",
    "#print(X1.reshape(-1, 1, -1).shape)\n",
    "#ValueError: can only specify one unknown dimension"
   ]
  },
  {
   "cell_type": "code",
   "execution_count": 8,
   "metadata": {},
   "outputs": [
    {
     "name": "stdout",
     "output_type": "stream",
     "text": [
      "shape of x_train: (120, 1)\n",
      "shape of y_train: (120, 1)\n"
     ]
    }
   ],
   "source": [
    "print('shape of x_train:',x_train[:,np.newaxis].shape)\n",
    "print('shape of y_train:',y_train[:,np.newaxis].shape)"
   ]
  },
  {
   "cell_type": "code",
   "execution_count": 9,
   "metadata": {
    "slideshow": {
     "slide_type": "fragment"
    }
   },
   "outputs": [
    {
     "data": {
      "text/plain": [
       "LinearRegression()"
      ]
     },
     "execution_count": 9,
     "metadata": {},
     "output_type": "execute_result"
    }
   ],
   "source": [
    "#Build linear model and fit a test data\n",
    "model = LinearRegression(fit_intercept=True)\n",
    "model.fit(x_train[:,np.newaxis], y_train[:,np.newaxis])"
   ]
  },
  {
   "cell_type": "code",
   "execution_count": 10,
   "metadata": {
    "slideshow": {
     "slide_type": "fragment"
    }
   },
   "outputs": [],
   "source": [
    "#Prediction\n",
    "yfit=model.predict(x_train[:,np.newaxis])"
   ]
  },
  {
   "cell_type": "code",
   "execution_count": 11,
   "metadata": {},
   "outputs": [
    {
     "name": "stdout",
     "output_type": "stream",
     "text": [
      "(120, 1)\n"
     ]
    }
   ],
   "source": [
    "#Understand yfit (predicted label)\n",
    "print(yfit.shape)"
   ]
  },
  {
   "cell_type": "code",
   "execution_count": 12,
   "metadata": {
    "slideshow": {
     "slide_type": "fragment"
    }
   },
   "outputs": [
    {
     "data": {
      "image/png": "[encoded data removed]",
      "text/plain": [
       "<Figure size 864x432 with 1 Axes>"
      ]
     },
     "metadata": {
      "needs_background": "light"
     },
     "output_type": "display_data"
    }
   ],
   "source": [
    "#Plotting the results.\n",
    "plt.figure(figsize=(12,6))\n",
    "plt.scatter(x_train, y_train)\n",
    "plt.plot(x_train, yfit, color='purple')\n",
    "plt.xlabel('X')\n",
    "plt.ylabel('Y')\n",
    "plt.title('fitted line')\n",
    "plt.show()"
   ]
  },
  {
   "cell_type": "code",
   "execution_count": 13,
   "metadata": {
    "slideshow": {
     "slide_type": "slide"
    }
   },
   "outputs": [
    {
     "name": "stdout",
     "output_type": "stream",
     "text": [
      "Coef: [[0.99439892]]  Intercept: [7.8915978]\n"
     ]
    }
   ],
   "source": [
    "#finally, we check model by calculating coefficients manually, \n",
    "#we use y=a+bx formula to calculate elements of x_train array and compare them with yfit outputs\n",
    "print(\"Coef:\",model.coef_, \" Intercept:\",model.intercept_)"
   ]
  },
  {
   "cell_type": "code",
   "execution_count": 14,
   "metadata": {},
   "outputs": [
    {
     "name": "stdout",
     "output_type": "stream",
     "text": [
      "actual: [ 3  4  7 10 18]\n",
      "using formula: [[ 8.88599671  9.88039563 10.87479455 11.86919346 12.86359238]]\n",
      "using model_prediction: [[ 8.88599671]\n",
      " [ 9.88039563]\n",
      " [10.87479455]\n",
      " [11.86919346]\n",
      " [12.86359238]]\n"
     ]
    }
   ],
   "source": [
    "print('actual:',y_train[1:6]) #actual\n",
    "\n",
    "print('using formula:',model.intercept_+model.coef_*[1,2,3,4,5]) #using formula\n",
    "\n",
    "print('using model_prediction:',yfit[1:6]) #using model_prediction"
   ]
  },
  {
   "cell_type": "markdown",
   "metadata": {
    "slideshow": {
     "slide_type": "slide"
    }
   },
   "source": [
    "#### using formula and model_prediction both results are the same\n"
   ]
  },
  {
   "cell_type": "code",
   "execution_count": 15,
   "metadata": {},
   "outputs": [
    {
     "data": {
      "text/plain": [
       "4.152383244292421"
      ]
     },
     "execution_count": 15,
     "metadata": {},
     "output_type": "execute_result"
    }
   ],
   "source": [
    "#root_mean_squared_error\n",
    "#high rms: original data is not linearly corelated well\n",
    "from sklearn.metrics import mean_squared_error\n",
    "from math import sqrt\n",
    "\n",
    "rms = sqrt(mean_squared_error(y_train, yfit))\n",
    "rms"
   ]
  },
  {
   "cell_type": "markdown",
   "metadata": {
    "slideshow": {
     "slide_type": "slide"
    }
   },
   "source": [
    "## Polynomial Regression (nonlinear)\n",
    "* It is a nonlinear relationship between independent x and dependent y variables"
   ]
  },
  {
   "cell_type": "code",
   "execution_count": 16,
   "metadata": {
    "slideshow": {
     "slide_type": "fragment"
    }
   },
   "outputs": [],
   "source": [
    "#importing libraries\n",
    "import numpy as np\n",
    "import matplotlib.pyplot as plt\n",
    "from sklearn.linear_model import LinearRegression\n",
    "from sklearn.preprocessing import PolynomialFeatures"
   ]
  },
  {
   "cell_type": "code",
   "execution_count": 17,
   "metadata": {},
   "outputs": [
    {
     "name": "stdout",
     "output_type": "stream",
     "text": [
      "shape x_train: (450,)\n",
      "shape y_train: (450,)\n"
     ]
    }
   ],
   "source": [
    "#Generate data or use your own dataset\n",
    "n = 450 #no. of data\n",
    "x = list(range(n))\n",
    "x = [i/100 for i in x]\n",
    "\n",
    "\n",
    "def GetPolyData(x):    \n",
    "    return np.sin(x) + np.random.uniform(-.2, .2, n) #between the two specified numbers\n",
    "\n",
    "y = GetPolyData(x)\n",
    "x_train1 = np.array(x)\n",
    "y_train1 = np.array(y)\n",
    "\n",
    "print('shape x_train:',x_train1.shape)\n",
    "print('shape y_train:',y_train1.shape)"
   ]
  },
  {
   "cell_type": "code",
   "execution_count": 18,
   "metadata": {},
   "outputs": [
    {
     "data": {
      "image/png": "[encoded data removed]",
      "text/plain": [
       "<Figure size 864x432 with 1 Axes>"
      ]
     },
     "metadata": {
      "needs_background": "light"
     },
     "output_type": "display_data"
    }
   ],
   "source": [
    "#check data visually by creating a scatter plot\n",
    "plt.figure(figsize=(12,6))\n",
    "plt.scatter(x_train1, y_train1)\n",
    "plt.xlabel('X')\n",
    "plt.ylabel('Y')\n",
    "plt.title('Input_Data_Points: X-feature, Y-label')\n",
    "plt.show()"
   ]
  },
  {
   "cell_type": "markdown",
   "metadata": {},
   "source": [
    "### polynomial feature would be the addition of a new feature (column) \n",
    "* where values were calculated by squaring the values in X, e.g. degree=4: X^4"
   ]
  },
  {
   "cell_type": "code",
   "execution_count": 19,
   "metadata": {},
   "outputs": [
    {
     "name": "stdout",
     "output_type": "stream",
     "text": [
      "shape of x_train1: (450, 1)\n",
      "shape of poly_features: (450, 5)\n",
      "shape of y_train1: (450, 1)\n",
      "PolynomialFeatures(degree=4)\n"
     ]
    }
   ],
   "source": [
    "#reshape\n",
    "print('shape of x_train1:',x_train1.reshape(-1, 1).shape)\n",
    "\n",
    "#Define the polynomial model with PolymonialFeatures class fit it on training data\n",
    "polyModel = PolynomialFeatures(degree = 4)\n",
    "xpol = polyModel.fit_transform(x_train1.reshape(-1, 1)) \n",
    "print('shape of poly_features:',xpol.shape)\n",
    "print('shape of y_train1:', y_train1.reshape(-1,1).shape)\n",
    "\n",
    "#Generate polynomial and interaction features\n",
    "preg = polyModel.fit(xpol,y_train1)\n",
    "print(preg)"
   ]
  },
  {
   "cell_type": "code",
   "execution_count": 20,
   "metadata": {
    "slideshow": {
     "slide_type": "slide"
    }
   },
   "outputs": [
    {
     "name": "stdout",
     "output_type": "stream",
     "text": [
      "LinearRegression()\n"
     ]
    }
   ],
   "source": [
    "#need a linear model and we'll define it and fit on training data. Then we'll predict the x data with the model\n",
    "liniearModel = LinearRegression(fit_intercept = True)\n",
    "l=liniearModel.fit(xpol, y_train1[:, np.newaxis])\n",
    "polyfit = liniearModel.predict(preg.fit_transform(x_train1.reshape(-1, 1)))\n",
    "print(l)"
   ]
  },
  {
   "cell_type": "code",
   "execution_count": 21,
   "metadata": {},
   "outputs": [
    {
     "data": {
      "image/png": "[encoded data removed]",
      "text/plain": [
       "<Figure size 864x432 with 1 Axes>"
      ]
     },
     "metadata": {
      "needs_background": "light"
     },
     "output_type": "display_data"
    }
   ],
   "source": [
    "#plot the fitted curve\n",
    "plt.figure(figsize=(12,6))\n",
    "plt.scatter(x_train1, y_train1)\n",
    "plt.plot(x_train1, polyfit, color = 'purple')\n",
    "plt.xlabel('X')\n",
    "plt.ylabel('Y')\n",
    "plt.title('fitted curve')\n",
    "plt.show()"
   ]
  },
  {
   "cell_type": "code",
   "execution_count": 22,
   "metadata": {},
   "outputs": [
    {
     "data": {
      "text/plain": [
       "0.11590074401511595"
      ]
     },
     "execution_count": 22,
     "metadata": {},
     "output_type": "execute_result"
    }
   ],
   "source": [
    "#root_mean_squared_error\n",
    "from sklearn.metrics import mean_squared_error\n",
    "from math import sqrt\n",
    "\n",
    "rms = sqrt(mean_squared_error(y_train1, polyfit))\n",
    "rms"
   ]
  },
  {
   "cell_type": "markdown",
   "metadata": {},
   "source": [
    "### Take-home-point:\n",
    "#### LinearRegression fits a linear model with coefficients to minimize the residual sum of squares between actual and predicted\n",
    "* measure the discrepancy between the data and an estimation model"
   ]
  },
  {
   "cell_type": "markdown",
   "metadata": {},
   "source": [
    "### See also:\n",
    "1. sklearn.linear_model.Ridge\n",
    "   * Ridge regression addresses some of the problems of Ordinary Least Squares by imposing a penalty on the size of the coefficients with l2 regularization.\n",
    "\n",
    "2. sklearn.linear_model.Lasso\n",
    "    * The Lasso is a linear model that estimates sparse coefficients with l1 regularization.\n",
    "\n",
    "3. sklearn.linear_model.ElasticNet\n",
    "    * Elastic-Net is a linear regression model trained with both l1 and l2 -norm regularization of the coefficients."
   ]
  },
  {
   "cell_type": "code",
   "execution_count": null,
   "metadata": {},
   "outputs": [],
   "source": []
  }
 ],
 "metadata": {
  "kernelspec": {
   "display_name": "Python [conda env:myenv]",
   "language": "python",
   "name": "conda-env-myenv-py"
  },
  "language_info": {
   "codemirror_mode": {
    "name": "ipython",
    "version": 3
   },
   "file_extension": ".py",
   "mimetype": "text/x-python",
   "name": "python",
   "nbconvert_exporter": "python",
   "pygments_lexer": "ipython3",
   "version": "3.8.3"
  }
 },
 "nbformat": 4,
 "nbformat_minor": 4
}
