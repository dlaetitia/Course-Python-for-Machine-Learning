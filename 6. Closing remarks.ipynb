{
 "cells": [
  {
   "cell_type": "markdown",
   "metadata": {},
   "source": [
    "## Closing remarks"
   ]
  },
  {
   "cell_type": "markdown",
   "metadata": {},
   "source": [
    "### Datasets\n",
    "1. [World meterlogical organozation](http://climexp.knmi.nl/)\n",
    "2. [Kaggle data](https://www.kaggle.com/data)\n",
    "3. [Kaggle regression data](https://www.kaggle.com/rtatman/datasets-for-regression-analysis)\n",
    "4. [Kaggle climate data](https://www.kaggle.com/berkeleyearth/climate-change-earth-surface-temperature-data)\n",
    "5. [UCI](https://archive.ics.uci.edu/ml/datasets.php)"
   ]
  },
  {
   "cell_type": "markdown",
   "metadata": {},
   "source": [
    "### Handy python cheat sheets: It can be really helpful when we're trying a set of exercises"
   ]
  },
  {
   "cell_type": "markdown",
   "metadata": {},
   "source": [
    "1. [Jupyter Notebook Cheat Sheet](https://miro.medium.com/max/875/1*totJoCc3l7BdeY-mEQ6HHQ.png)\n",
    "2. [Pandas Cheat Sheet](https://pandas.pydata.org/Pandas_Cheat_Sheet.pdf)\n",
    "3. [Numpy Cheat Sheet](https://s3.amazonaws.com/assets.datacamp.com/blog_assets/Numpy_Python_Cheat_Sheet.pdf)\n",
    "4. [Matplotlib Cheat Sheet](https://ainfographics.files.wordpress.com/2017/10/python-matplotlib-cheat-sheet.png?w=1131)\n",
    "5. [Bokeh Cheat sheet](https://s3.amazonaws.com/assets.datacamp.com/blog_assets/Python_Bokeh_Cheat_Sheet.pdf)\n",
    "6. [Scikit-learn Cheat Sheet](https://s3.amazonaws.com/assets.datacamp.com/blog_assets/Scikit_Learn_Cheat_Sheet_Python.pdf)\n",
    "7. [Seaborn Cheat Sheet](https://python-graph-gallery.com/wp-content/uploads/Seaborn_Cheatsheet_Datacamp.png)\n",
    "8. [Keras Cheat Sheet](https://s3.amazonaws.com/assets.datacamp.com/blog_assets/Keras_Cheat_Sheet_Python.pdf)\n",
    "9. [Scipy Cheat Sheet](https://datacamp-community-prod.s3.amazonaws.com/5710caa7-94d4-4248-be94-d23dea9e668f)"
   ]
  },
  {
   "cell_type": "markdown",
   "metadata": {},
   "source": [
    "#### you can reach me via: [Linkedin](linkedin.com/in/sonal-rami-518713169) [Github](https://github.com/SonalRami) [Email](sonal.rami@awi.de)"
   ]
  }
 ],
 "metadata": {
  "kernelspec": {
   "display_name": "Python [conda env:myenv]",
   "language": "python",
   "name": "conda-env-myenv-py"
  },
  "language_info": {
   "codemirror_mode": {
    "name": "ipython",
    "version": 3
   },
   "file_extension": ".py",
   "mimetype": "text/x-python",
   "name": "python",
   "nbconvert_exporter": "python",
   "pygments_lexer": "ipython3",
   "version": "3.8.3"
  }
 },
 "nbformat": 4,
 "nbformat_minor": 4
}
